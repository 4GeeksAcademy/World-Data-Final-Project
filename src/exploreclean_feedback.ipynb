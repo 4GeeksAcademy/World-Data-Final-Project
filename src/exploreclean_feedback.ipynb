{
 "cells": [
  {
   "cell_type": "markdown",
   "metadata": {},
   "source": [
    "# Final Project Title goes here"
   ]
  },
  {
   "cell_type": "markdown",
   "metadata": {},
   "source": [
    "## Step 1: Problem Definition\n",
    "**<span style=\"color:red;\">TODO:</span> @Nicholas, @Logan define your objective/problem definition here. Here are some questions you should consider:**\n",
    "\n",
    "1. **Business Objective**: What is the business problem you want to solve? What is the overarching goal or objective of the project?\n",
    "\n",
    "2. **Problem Type**: What type of problem are you trying to solve? Is it a regression problem (predicting a continuous value), classification problem (assigning labels to instances), clustering problem (grouping similar instances together), time series forecasting (predicting future values based on past observations), or something else?\n",
    "\n",
    "3. **Stakeholders**: Who are the stakeholders or end users of the solution?"
   ]
  },
  {
   "cell_type": "markdown",
   "metadata": {},
   "source": [
    "## Step 2: Acquiring and loading the data set\n",
    "**<span style=\"color:red;\">TODO:</span> @Nicholas, @Logan you should provide some context about your dataset. Here are some questions you should consider:**\n",
    "\n",
    "1. **Source of the Data:** Where did the dataset come from? Is it publicly available data, data from a specific research project, or data from a company or organization?\n",
    "\n",
    "2. **Variables and Features:** What do each of the columns represent? For example:\n",
    "- `Model`: The make and model of the vehicle\n",
    "- `Displ`: Engine displacement in liters.\n",
    "- ...\n",
    "\n",
    "3. **Data Collection**: How did you collect the data?"
   ]
  },
  {
   "cell_type": "markdown",
   "metadata": {},
   "source": [
    "### Imports"
   ]
  },
  {
   "cell_type": "code",
   "execution_count": 32,
   "metadata": {},
   "outputs": [],
   "source": [
    "from statsmodels.tsa.stattools import adfuller\n",
    "from statsmodels.graphics.tsaplots import plot_acf, plot_pacf\n",
    "from pmdarima import auto_arima\n",
    "from sklearn.metrics import mean_squared_error\n",
    "from math import sqrt\n",
    "import seaborn as sns\n",
    "import matplotlib.pyplot as plt\n",
    "import pandas as pd\n",
    "import os\n",
    "import re\n",
    "\n",
    "# Set display options to show all columns\n",
    "pd.set_option('display.max_columns', None)"
   ]
  },
  {
   "cell_type": "markdown",
   "metadata": {},
   "source": [
    "### Loading the dataset"
   ]
  },
  {
   "cell_type": "code",
   "execution_count": 33,
   "metadata": {},
   "outputs": [
    {
     "data": {
      "text/html": [
       "<div>\n",
       "<style scoped>\n",
       "    .dataframe tbody tr th:only-of-type {\n",
       "        vertical-align: middle;\n",
       "    }\n",
       "\n",
       "    .dataframe tbody tr th {\n",
       "        vertical-align: top;\n",
       "    }\n",
       "\n",
       "    .dataframe thead th {\n",
       "        text-align: right;\n",
       "    }\n",
       "</style>\n",
       "<table border=\"1\" class=\"dataframe\">\n",
       "  <thead>\n",
       "    <tr style=\"text-align: right;\">\n",
       "      <th></th>\n",
       "      <th>Model</th>\n",
       "      <th>Displ</th>\n",
       "      <th>Cyl</th>\n",
       "      <th>Trans</th>\n",
       "      <th>Drive</th>\n",
       "      <th>Fuel</th>\n",
       "      <th>Cert Region</th>\n",
       "      <th>Stnd</th>\n",
       "      <th>Stnd Description</th>\n",
       "      <th>Underhood ID</th>\n",
       "      <th>Veh Class</th>\n",
       "      <th>Air Pollution Score</th>\n",
       "      <th>City MPG</th>\n",
       "      <th>Hwy MPG</th>\n",
       "      <th>Cmb MPG</th>\n",
       "      <th>Greenhouse Gas Score</th>\n",
       "      <th>SmartWay</th>\n",
       "      <th>Comb CO2</th>\n",
       "      <th>Year</th>\n",
       "      <th>Sales Area</th>\n",
       "      <th>FE Calc Appr</th>\n",
       "      <th>Unadj Cmb MPG</th>\n",
       "    </tr>\n",
       "  </thead>\n",
       "  <tbody>\n",
       "    <tr>\n",
       "      <th>0</th>\n",
       "      <td>ACURA ILX</td>\n",
       "      <td>2.4</td>\n",
       "      <td>4.0</td>\n",
       "      <td>AMS-8</td>\n",
       "      <td>2WD</td>\n",
       "      <td>Gasoline</td>\n",
       "      <td>CA</td>\n",
       "      <td>L3ULEV125</td>\n",
       "      <td>California LEV-III ULEV125</td>\n",
       "      <td>LHNXV02.4KH3</td>\n",
       "      <td>small car</td>\n",
       "      <td>3</td>\n",
       "      <td>24</td>\n",
       "      <td>34</td>\n",
       "      <td>28</td>\n",
       "      <td>6</td>\n",
       "      <td>No</td>\n",
       "      <td>316</td>\n",
       "      <td>2020-01-01</td>\n",
       "      <td>NaN</td>\n",
       "      <td>NaN</td>\n",
       "      <td>NaN</td>\n",
       "    </tr>\n",
       "    <tr>\n",
       "      <th>1</th>\n",
       "      <td>ACURA ILX</td>\n",
       "      <td>2.4</td>\n",
       "      <td>4.0</td>\n",
       "      <td>AMS-8</td>\n",
       "      <td>2WD</td>\n",
       "      <td>Gasoline</td>\n",
       "      <td>FA</td>\n",
       "      <td>T3B125</td>\n",
       "      <td>Federal Tier 3 Bin 125</td>\n",
       "      <td>LHNXV02.4KH3</td>\n",
       "      <td>small car</td>\n",
       "      <td>3</td>\n",
       "      <td>24</td>\n",
       "      <td>34</td>\n",
       "      <td>28</td>\n",
       "      <td>6</td>\n",
       "      <td>No</td>\n",
       "      <td>316</td>\n",
       "      <td>2020-01-01</td>\n",
       "      <td>NaN</td>\n",
       "      <td>NaN</td>\n",
       "      <td>NaN</td>\n",
       "    </tr>\n",
       "    <tr>\n",
       "      <th>2</th>\n",
       "      <td>ACURA MDX</td>\n",
       "      <td>3.0</td>\n",
       "      <td>6.0</td>\n",
       "      <td>AMS-7</td>\n",
       "      <td>4WD</td>\n",
       "      <td>Gasoline</td>\n",
       "      <td>CA</td>\n",
       "      <td>L3ULEV125</td>\n",
       "      <td>California LEV-III ULEV125</td>\n",
       "      <td>LHNXV03.0ABC</td>\n",
       "      <td>small SUV</td>\n",
       "      <td>3</td>\n",
       "      <td>26</td>\n",
       "      <td>27</td>\n",
       "      <td>27</td>\n",
       "      <td>6</td>\n",
       "      <td>No</td>\n",
       "      <td>333</td>\n",
       "      <td>2020-01-01</td>\n",
       "      <td>NaN</td>\n",
       "      <td>NaN</td>\n",
       "      <td>NaN</td>\n",
       "    </tr>\n",
       "    <tr>\n",
       "      <th>3</th>\n",
       "      <td>ACURA MDX</td>\n",
       "      <td>3.0</td>\n",
       "      <td>6.0</td>\n",
       "      <td>AMS-7</td>\n",
       "      <td>4WD</td>\n",
       "      <td>Gasoline</td>\n",
       "      <td>FA</td>\n",
       "      <td>T3B125</td>\n",
       "      <td>Federal Tier 3 Bin 125</td>\n",
       "      <td>LHNXV03.0ABC</td>\n",
       "      <td>small SUV</td>\n",
       "      <td>3</td>\n",
       "      <td>26</td>\n",
       "      <td>27</td>\n",
       "      <td>27</td>\n",
       "      <td>6</td>\n",
       "      <td>No</td>\n",
       "      <td>333</td>\n",
       "      <td>2020-01-01</td>\n",
       "      <td>NaN</td>\n",
       "      <td>NaN</td>\n",
       "      <td>NaN</td>\n",
       "    </tr>\n",
       "    <tr>\n",
       "      <th>4</th>\n",
       "      <td>ACURA MDX</td>\n",
       "      <td>3.5</td>\n",
       "      <td>6.0</td>\n",
       "      <td>SemiAuto-9</td>\n",
       "      <td>2WD</td>\n",
       "      <td>Gasoline</td>\n",
       "      <td>CA</td>\n",
       "      <td>L3ULEV125</td>\n",
       "      <td>California LEV-III ULEV125</td>\n",
       "      <td>LHNXV03.5PBM</td>\n",
       "      <td>small SUV</td>\n",
       "      <td>3</td>\n",
       "      <td>20</td>\n",
       "      <td>27</td>\n",
       "      <td>23</td>\n",
       "      <td>5</td>\n",
       "      <td>No</td>\n",
       "      <td>387</td>\n",
       "      <td>2020-01-01</td>\n",
       "      <td>NaN</td>\n",
       "      <td>NaN</td>\n",
       "      <td>NaN</td>\n",
       "    </tr>\n",
       "    <tr>\n",
       "      <th>...</th>\n",
       "      <td>...</td>\n",
       "      <td>...</td>\n",
       "      <td>...</td>\n",
       "      <td>...</td>\n",
       "      <td>...</td>\n",
       "      <td>...</td>\n",
       "      <td>...</td>\n",
       "      <td>...</td>\n",
       "      <td>...</td>\n",
       "      <td>...</td>\n",
       "      <td>...</td>\n",
       "      <td>...</td>\n",
       "      <td>...</td>\n",
       "      <td>...</td>\n",
       "      <td>...</td>\n",
       "      <td>...</td>\n",
       "      <td>...</td>\n",
       "      <td>...</td>\n",
       "      <td>...</td>\n",
       "      <td>...</td>\n",
       "      <td>...</td>\n",
       "      <td>...</td>\n",
       "    </tr>\n",
       "    <tr>\n",
       "      <th>58440</th>\n",
       "      <td>VOLVO XC90 B5</td>\n",
       "      <td>2.0</td>\n",
       "      <td>4.0</td>\n",
       "      <td>SemiAuto-8</td>\n",
       "      <td>4WD</td>\n",
       "      <td>Gasoline</td>\n",
       "      <td>FA</td>\n",
       "      <td>T3B70</td>\n",
       "      <td>Federal Tier 3 Bin 70</td>\n",
       "      <td>RVVXJ02.0U70</td>\n",
       "      <td>standard SUV</td>\n",
       "      <td>5</td>\n",
       "      <td>22</td>\n",
       "      <td>27</td>\n",
       "      <td>24</td>\n",
       "      <td>5</td>\n",
       "      <td>No</td>\n",
       "      <td>369</td>\n",
       "      <td>2024-01-01</td>\n",
       "      <td>NaN</td>\n",
       "      <td>NaN</td>\n",
       "      <td>NaN</td>\n",
       "    </tr>\n",
       "    <tr>\n",
       "      <th>58441</th>\n",
       "      <td>VOLVO XC90 B6</td>\n",
       "      <td>2.0</td>\n",
       "      <td>4.0</td>\n",
       "      <td>SemiAuto-8</td>\n",
       "      <td>4WD</td>\n",
       "      <td>Gasoline</td>\n",
       "      <td>CA</td>\n",
       "      <td>L3SULEV30</td>\n",
       "      <td>California LEV-III SULEV30</td>\n",
       "      <td>RVVXJ02.0S30</td>\n",
       "      <td>standard SUV</td>\n",
       "      <td>7</td>\n",
       "      <td>20</td>\n",
       "      <td>26</td>\n",
       "      <td>23</td>\n",
       "      <td>5</td>\n",
       "      <td>No</td>\n",
       "      <td>393</td>\n",
       "      <td>2024-01-01</td>\n",
       "      <td>NaN</td>\n",
       "      <td>NaN</td>\n",
       "      <td>NaN</td>\n",
       "    </tr>\n",
       "    <tr>\n",
       "      <th>58442</th>\n",
       "      <td>VOLVO XC90 B6</td>\n",
       "      <td>2.0</td>\n",
       "      <td>4.0</td>\n",
       "      <td>SemiAuto-8</td>\n",
       "      <td>4WD</td>\n",
       "      <td>Gasoline</td>\n",
       "      <td>FA</td>\n",
       "      <td>T3B30</td>\n",
       "      <td>Federal Tier 3 Bin 30</td>\n",
       "      <td>RVVXJ02.0S30</td>\n",
       "      <td>standard SUV</td>\n",
       "      <td>7</td>\n",
       "      <td>20</td>\n",
       "      <td>26</td>\n",
       "      <td>23</td>\n",
       "      <td>5</td>\n",
       "      <td>No</td>\n",
       "      <td>393</td>\n",
       "      <td>2024-01-01</td>\n",
       "      <td>NaN</td>\n",
       "      <td>NaN</td>\n",
       "      <td>NaN</td>\n",
       "    </tr>\n",
       "    <tr>\n",
       "      <th>58443</th>\n",
       "      <td>VOLVO XC90 T8 Recharge</td>\n",
       "      <td>2.0</td>\n",
       "      <td>4.0</td>\n",
       "      <td>SemiAuto-8</td>\n",
       "      <td>4WD</td>\n",
       "      <td>Gasoline/Electricity</td>\n",
       "      <td>CA</td>\n",
       "      <td>L3SULEV30</td>\n",
       "      <td>California LEV-III SULEV30</td>\n",
       "      <td>RVVXJ02.0P30</td>\n",
       "      <td>standard SUV</td>\n",
       "      <td>7</td>\n",
       "      <td>26/59</td>\n",
       "      <td>27/57</td>\n",
       "      <td>27/58</td>\n",
       "      <td>9</td>\n",
       "      <td>Yes</td>\n",
       "      <td>137</td>\n",
       "      <td>2024-01-01</td>\n",
       "      <td>NaN</td>\n",
       "      <td>NaN</td>\n",
       "      <td>NaN</td>\n",
       "    </tr>\n",
       "    <tr>\n",
       "      <th>58444</th>\n",
       "      <td>VOLVO XC90 T8 Recharge</td>\n",
       "      <td>2.0</td>\n",
       "      <td>4.0</td>\n",
       "      <td>SemiAuto-8</td>\n",
       "      <td>4WD</td>\n",
       "      <td>Gasoline/Electricity</td>\n",
       "      <td>FA</td>\n",
       "      <td>T3B30</td>\n",
       "      <td>Federal Tier 3 Bin 30</td>\n",
       "      <td>RVVXJ02.0P30</td>\n",
       "      <td>standard SUV</td>\n",
       "      <td>7</td>\n",
       "      <td>26/59</td>\n",
       "      <td>27/57</td>\n",
       "      <td>27/58</td>\n",
       "      <td>9</td>\n",
       "      <td>Yes</td>\n",
       "      <td>137</td>\n",
       "      <td>2024-01-01</td>\n",
       "      <td>NaN</td>\n",
       "      <td>NaN</td>\n",
       "      <td>NaN</td>\n",
       "    </tr>\n",
       "  </tbody>\n",
       "</table>\n",
       "<p>58445 rows × 22 columns</p>\n",
       "</div>"
      ],
      "text/plain": [
       "                        Model  Displ  Cyl       Trans Drive  \\\n",
       "0                   ACURA ILX    2.4  4.0       AMS-8   2WD   \n",
       "1                   ACURA ILX    2.4  4.0       AMS-8   2WD   \n",
       "2                   ACURA MDX    3.0  6.0       AMS-7   4WD   \n",
       "3                   ACURA MDX    3.0  6.0       AMS-7   4WD   \n",
       "4                   ACURA MDX    3.5  6.0  SemiAuto-9   2WD   \n",
       "...                       ...    ...  ...         ...   ...   \n",
       "58440           VOLVO XC90 B5    2.0  4.0  SemiAuto-8   4WD   \n",
       "58441           VOLVO XC90 B6    2.0  4.0  SemiAuto-8   4WD   \n",
       "58442           VOLVO XC90 B6    2.0  4.0  SemiAuto-8   4WD   \n",
       "58443  VOLVO XC90 T8 Recharge    2.0  4.0  SemiAuto-8   4WD   \n",
       "58444  VOLVO XC90 T8 Recharge    2.0  4.0  SemiAuto-8   4WD   \n",
       "\n",
       "                       Fuel Cert Region       Stnd  \\\n",
       "0                  Gasoline          CA  L3ULEV125   \n",
       "1                  Gasoline          FA     T3B125   \n",
       "2                  Gasoline          CA  L3ULEV125   \n",
       "3                  Gasoline          FA     T3B125   \n",
       "4                  Gasoline          CA  L3ULEV125   \n",
       "...                     ...         ...        ...   \n",
       "58440              Gasoline          FA      T3B70   \n",
       "58441              Gasoline          CA  L3SULEV30   \n",
       "58442              Gasoline          FA      T3B30   \n",
       "58443  Gasoline/Electricity          CA  L3SULEV30   \n",
       "58444  Gasoline/Electricity          FA      T3B30   \n",
       "\n",
       "                 Stnd Description  Underhood ID     Veh Class  \\\n",
       "0      California LEV-III ULEV125  LHNXV02.4KH3     small car   \n",
       "1          Federal Tier 3 Bin 125  LHNXV02.4KH3     small car   \n",
       "2      California LEV-III ULEV125  LHNXV03.0ABC     small SUV   \n",
       "3          Federal Tier 3 Bin 125  LHNXV03.0ABC     small SUV   \n",
       "4      California LEV-III ULEV125  LHNXV03.5PBM     small SUV   \n",
       "...                           ...           ...           ...   \n",
       "58440       Federal Tier 3 Bin 70  RVVXJ02.0U70  standard SUV   \n",
       "58441  California LEV-III SULEV30  RVVXJ02.0S30  standard SUV   \n",
       "58442       Federal Tier 3 Bin 30  RVVXJ02.0S30  standard SUV   \n",
       "58443  California LEV-III SULEV30  RVVXJ02.0P30  standard SUV   \n",
       "58444       Federal Tier 3 Bin 30  RVVXJ02.0P30  standard SUV   \n",
       "\n",
       "      Air Pollution Score City MPG Hwy MPG Cmb MPG Greenhouse Gas Score  \\\n",
       "0                       3       24      34      28                    6   \n",
       "1                       3       24      34      28                    6   \n",
       "2                       3       26      27      27                    6   \n",
       "3                       3       26      27      27                    6   \n",
       "4                       3       20      27      23                    5   \n",
       "...                   ...      ...     ...     ...                  ...   \n",
       "58440                   5       22      27      24                    5   \n",
       "58441                   7       20      26      23                    5   \n",
       "58442                   7       20      26      23                    5   \n",
       "58443                   7    26/59   27/57   27/58                    9   \n",
       "58444                   7    26/59   27/57   27/58                    9   \n",
       "\n",
       "      SmartWay Comb CO2       Year Sales Area FE Calc Appr Unadj Cmb MPG  \n",
       "0           No      316 2020-01-01        NaN          NaN           NaN  \n",
       "1           No      316 2020-01-01        NaN          NaN           NaN  \n",
       "2           No      333 2020-01-01        NaN          NaN           NaN  \n",
       "3           No      333 2020-01-01        NaN          NaN           NaN  \n",
       "4           No      387 2020-01-01        NaN          NaN           NaN  \n",
       "...        ...      ...        ...        ...          ...           ...  \n",
       "58440       No      369 2024-01-01        NaN          NaN           NaN  \n",
       "58441       No      393 2024-01-01        NaN          NaN           NaN  \n",
       "58442       No      393 2024-01-01        NaN          NaN           NaN  \n",
       "58443      Yes      137 2024-01-01        NaN          NaN           NaN  \n",
       "58444      Yes      137 2024-01-01        NaN          NaN           NaN  \n",
       "\n",
       "[58445 rows x 22 columns]"
      ]
     },
     "execution_count": 33,
     "metadata": {},
     "output_type": "execute_result"
    }
   ],
   "source": [
    "# List of directories containing raw data files\n",
    "directories = [\"../data/raw/2000/\"]\n",
    "\n",
    "# Initialize an empty list to store dataframes\n",
    "dfs = []\n",
    "\n",
    "# Iterate through each directory\n",
    "for directory in directories:\n",
    "    # Extract the substring containing the year prefix (e.g. \"20\") using slicing\n",
    "    year_prefix = directory.split(\"/\")[-2][:2]\n",
    "\n",
    "    # Iterate through each file in the directory\n",
    "    for filename in os.listdir(directory):\n",
    "        if filename.endswith(\".xlsx\") or filename.endswith(\".xls\"):\n",
    "            # Read the Excel file into a dataframe\n",
    "            df = pd.read_excel(os.path.join(directory, filename))\n",
    "\n",
    "            # Extract the substring containing the year suffix (e.g. \"24\") using slicing\n",
    "            year_suffix = filename.split(\".\")[0][-2:]\n",
    "            \n",
    "            # Combine the year prefix and suffix to make the entire year (e.g. \"2024\")\n",
    "            year = f\"{year_prefix}{year_suffix}\"\n",
    "            \n",
    "            # Add a new column 'Year' with the respective year\n",
    "            df['Year'] = year\n",
    "\n",
    "            # Convert 'Year' column to datetime object\n",
    "            df['Year'] = pd.to_datetime(df['Year'], format='%Y')\n",
    "            \n",
    "            # Append the dataframe to the list\n",
    "            dfs.append(df)\n",
    "\n",
    "# Concatenate all dataframes into a single dataframe\n",
    "merged_data = pd.concat(dfs, ignore_index=True)\n",
    "\n",
    "# Now, merged_data contains all data from the files with a new column 'Year'\n",
    "merged_data"
   ]
  },
  {
   "cell_type": "markdown",
   "metadata": {},
   "source": [
    "## Step 3: Store the information\n",
    "This step is not needed. Onto the next step..."
   ]
  },
  {
   "cell_type": "markdown",
   "metadata": {},
   "source": [
    "## Step 4: Perform a descriptive analysis\n",
    "**<span style=\"color:red;\">TODO:</span> @Nicholas, @Logan we may determine to add additional features to your time series at a later time which would result in a multivariate time series model. If that is determined, then a descriptive analysis would be appropriate. For now, focus on developing a univariate time series model to forecast your target `City MPG` (ignore all other features aside from `Year`).**"
   ]
  },
  {
   "cell_type": "markdown",
   "metadata": {},
   "source": [
    "## Step 5: Perform a full EDA"
   ]
  },
  {
   "cell_type": "code",
   "execution_count": 34,
   "metadata": {},
   "outputs": [
    {
     "data": {
      "text/html": [
       "<div>\n",
       "<style scoped>\n",
       "    .dataframe tbody tr th:only-of-type {\n",
       "        vertical-align: middle;\n",
       "    }\n",
       "\n",
       "    .dataframe tbody tr th {\n",
       "        vertical-align: top;\n",
       "    }\n",
       "\n",
       "    .dataframe thead th {\n",
       "        text-align: right;\n",
       "    }\n",
       "</style>\n",
       "<table border=\"1\" class=\"dataframe\">\n",
       "  <thead>\n",
       "    <tr style=\"text-align: right;\">\n",
       "      <th></th>\n",
       "      <th>Model</th>\n",
       "      <th>Displ</th>\n",
       "      <th>Cyl</th>\n",
       "      <th>Trans</th>\n",
       "      <th>Drive</th>\n",
       "      <th>Fuel</th>\n",
       "      <th>Cert Region</th>\n",
       "      <th>Stnd</th>\n",
       "      <th>Stnd Description</th>\n",
       "      <th>Underhood ID</th>\n",
       "      <th>Veh Class</th>\n",
       "      <th>Air Pollution Score</th>\n",
       "      <th>City MPG</th>\n",
       "      <th>Hwy MPG</th>\n",
       "      <th>Cmb MPG</th>\n",
       "      <th>Greenhouse Gas Score</th>\n",
       "      <th>SmartWay</th>\n",
       "      <th>Comb CO2</th>\n",
       "      <th>Year</th>\n",
       "      <th>Sales Area</th>\n",
       "      <th>FE Calc Appr</th>\n",
       "      <th>Unadj Cmb MPG</th>\n",
       "    </tr>\n",
       "  </thead>\n",
       "  <tbody>\n",
       "    <tr>\n",
       "      <th>0</th>\n",
       "      <td>ACURA ILX</td>\n",
       "      <td>2.4</td>\n",
       "      <td>4.0</td>\n",
       "      <td>AMS-8</td>\n",
       "      <td>2WD</td>\n",
       "      <td>Gasoline</td>\n",
       "      <td>CA</td>\n",
       "      <td>L3ULEV125</td>\n",
       "      <td>California LEV-III ULEV125</td>\n",
       "      <td>LHNXV02.4KH3</td>\n",
       "      <td>small car</td>\n",
       "      <td>3</td>\n",
       "      <td>24</td>\n",
       "      <td>34</td>\n",
       "      <td>28</td>\n",
       "      <td>6</td>\n",
       "      <td>No</td>\n",
       "      <td>316</td>\n",
       "      <td>2020-01-01</td>\n",
       "      <td>NaN</td>\n",
       "      <td>NaN</td>\n",
       "      <td>NaN</td>\n",
       "    </tr>\n",
       "    <tr>\n",
       "      <th>1</th>\n",
       "      <td>ACURA ILX</td>\n",
       "      <td>2.4</td>\n",
       "      <td>4.0</td>\n",
       "      <td>AMS-8</td>\n",
       "      <td>2WD</td>\n",
       "      <td>Gasoline</td>\n",
       "      <td>FA</td>\n",
       "      <td>T3B125</td>\n",
       "      <td>Federal Tier 3 Bin 125</td>\n",
       "      <td>LHNXV02.4KH3</td>\n",
       "      <td>small car</td>\n",
       "      <td>3</td>\n",
       "      <td>24</td>\n",
       "      <td>34</td>\n",
       "      <td>28</td>\n",
       "      <td>6</td>\n",
       "      <td>No</td>\n",
       "      <td>316</td>\n",
       "      <td>2020-01-01</td>\n",
       "      <td>NaN</td>\n",
       "      <td>NaN</td>\n",
       "      <td>NaN</td>\n",
       "    </tr>\n",
       "    <tr>\n",
       "      <th>2</th>\n",
       "      <td>ACURA MDX</td>\n",
       "      <td>3.0</td>\n",
       "      <td>6.0</td>\n",
       "      <td>AMS-7</td>\n",
       "      <td>4WD</td>\n",
       "      <td>Gasoline</td>\n",
       "      <td>CA</td>\n",
       "      <td>L3ULEV125</td>\n",
       "      <td>California LEV-III ULEV125</td>\n",
       "      <td>LHNXV03.0ABC</td>\n",
       "      <td>small SUV</td>\n",
       "      <td>3</td>\n",
       "      <td>26</td>\n",
       "      <td>27</td>\n",
       "      <td>27</td>\n",
       "      <td>6</td>\n",
       "      <td>No</td>\n",
       "      <td>333</td>\n",
       "      <td>2020-01-01</td>\n",
       "      <td>NaN</td>\n",
       "      <td>NaN</td>\n",
       "      <td>NaN</td>\n",
       "    </tr>\n",
       "    <tr>\n",
       "      <th>3</th>\n",
       "      <td>ACURA MDX</td>\n",
       "      <td>3.0</td>\n",
       "      <td>6.0</td>\n",
       "      <td>AMS-7</td>\n",
       "      <td>4WD</td>\n",
       "      <td>Gasoline</td>\n",
       "      <td>FA</td>\n",
       "      <td>T3B125</td>\n",
       "      <td>Federal Tier 3 Bin 125</td>\n",
       "      <td>LHNXV03.0ABC</td>\n",
       "      <td>small SUV</td>\n",
       "      <td>3</td>\n",
       "      <td>26</td>\n",
       "      <td>27</td>\n",
       "      <td>27</td>\n",
       "      <td>6</td>\n",
       "      <td>No</td>\n",
       "      <td>333</td>\n",
       "      <td>2020-01-01</td>\n",
       "      <td>NaN</td>\n",
       "      <td>NaN</td>\n",
       "      <td>NaN</td>\n",
       "    </tr>\n",
       "    <tr>\n",
       "      <th>4</th>\n",
       "      <td>ACURA MDX</td>\n",
       "      <td>3.5</td>\n",
       "      <td>6.0</td>\n",
       "      <td>SemiAuto-9</td>\n",
       "      <td>2WD</td>\n",
       "      <td>Gasoline</td>\n",
       "      <td>CA</td>\n",
       "      <td>L3ULEV125</td>\n",
       "      <td>California LEV-III ULEV125</td>\n",
       "      <td>LHNXV03.5PBM</td>\n",
       "      <td>small SUV</td>\n",
       "      <td>3</td>\n",
       "      <td>20</td>\n",
       "      <td>27</td>\n",
       "      <td>23</td>\n",
       "      <td>5</td>\n",
       "      <td>No</td>\n",
       "      <td>387</td>\n",
       "      <td>2020-01-01</td>\n",
       "      <td>NaN</td>\n",
       "      <td>NaN</td>\n",
       "      <td>NaN</td>\n",
       "    </tr>\n",
       "  </tbody>\n",
       "</table>\n",
       "</div>"
      ],
      "text/plain": [
       "       Model  Displ  Cyl       Trans Drive      Fuel Cert Region       Stnd  \\\n",
       "0  ACURA ILX    2.4  4.0       AMS-8   2WD  Gasoline          CA  L3ULEV125   \n",
       "1  ACURA ILX    2.4  4.0       AMS-8   2WD  Gasoline          FA     T3B125   \n",
       "2  ACURA MDX    3.0  6.0       AMS-7   4WD  Gasoline          CA  L3ULEV125   \n",
       "3  ACURA MDX    3.0  6.0       AMS-7   4WD  Gasoline          FA     T3B125   \n",
       "4  ACURA MDX    3.5  6.0  SemiAuto-9   2WD  Gasoline          CA  L3ULEV125   \n",
       "\n",
       "             Stnd Description  Underhood ID  Veh Class Air Pollution Score  \\\n",
       "0  California LEV-III ULEV125  LHNXV02.4KH3  small car                   3   \n",
       "1      Federal Tier 3 Bin 125  LHNXV02.4KH3  small car                   3   \n",
       "2  California LEV-III ULEV125  LHNXV03.0ABC  small SUV                   3   \n",
       "3      Federal Tier 3 Bin 125  LHNXV03.0ABC  small SUV                   3   \n",
       "4  California LEV-III ULEV125  LHNXV03.5PBM  small SUV                   3   \n",
       "\n",
       "  City MPG Hwy MPG Cmb MPG Greenhouse Gas Score SmartWay Comb CO2       Year  \\\n",
       "0       24      34      28                    6       No      316 2020-01-01   \n",
       "1       24      34      28                    6       No      316 2020-01-01   \n",
       "2       26      27      27                    6       No      333 2020-01-01   \n",
       "3       26      27      27                    6       No      333 2020-01-01   \n",
       "4       20      27      23                    5       No      387 2020-01-01   \n",
       "\n",
       "  Sales Area FE Calc Appr Unadj Cmb MPG  \n",
       "0        NaN          NaN           NaN  \n",
       "1        NaN          NaN           NaN  \n",
       "2        NaN          NaN           NaN  \n",
       "3        NaN          NaN           NaN  \n",
       "4        NaN          NaN           NaN  "
      ]
     },
     "execution_count": 34,
     "metadata": {},
     "output_type": "execute_result"
    }
   ],
   "source": [
    "# See fist 5 rows\n",
    "merged_data.head()"
   ]
  },
  {
   "cell_type": "markdown",
   "metadata": {},
   "source": [
    "### Drop duplicates"
   ]
  },
  {
   "cell_type": "code",
   "execution_count": 35,
   "metadata": {},
   "outputs": [
    {
     "name": "stdout",
     "output_type": "stream",
     "text": [
      "Dimensionality before removing duplicates: (58445, 22)\n"
     ]
    }
   ],
   "source": [
    "nrows, ncolumns = merged_data.shape\n",
    "print(f\"Dimensionality before removing duplicates: ({nrows}, {ncolumns})\")"
   ]
  },
  {
   "cell_type": "code",
   "execution_count": 36,
   "metadata": {},
   "outputs": [],
   "source": [
    "# Remove duplicates\n",
    "merged_data.drop_duplicates(inplace=True)"
   ]
  },
  {
   "cell_type": "code",
   "execution_count": 37,
   "metadata": {},
   "outputs": [
    {
     "name": "stdout",
     "output_type": "stream",
     "text": [
      "Dimensionality after removing duplicates: (58016, 22)\n"
     ]
    }
   ],
   "source": [
    "nrows, ncolumns = merged_data.shape\n",
    "print(f\"Dimensionality after removing duplicates: ({nrows}, {ncolumns})\")"
   ]
  },
  {
   "cell_type": "markdown",
   "metadata": {},
   "source": [
    "### Keep relevant columns"
   ]
  },
  {
   "cell_type": "code",
   "execution_count": 38,
   "metadata": {},
   "outputs": [
    {
     "data": {
      "text/plain": [
       "Index(['Model', 'Displ', 'Cyl', 'Trans', 'Drive', 'Fuel', 'Cert Region',\n",
       "       'Stnd', 'Stnd Description', 'Underhood ID', 'Veh Class',\n",
       "       'Air Pollution Score', 'City MPG', 'Hwy MPG', 'Cmb MPG',\n",
       "       'Greenhouse Gas Score', 'SmartWay', 'Comb CO2', 'Year', 'Sales Area',\n",
       "       'FE Calc Appr', 'Unadj Cmb MPG'],\n",
       "      dtype='object')"
      ]
     },
     "execution_count": 38,
     "metadata": {},
     "output_type": "execute_result"
    }
   ],
   "source": [
    "# Column names\n",
    "merged_data.columns"
   ]
  },
  {
   "cell_type": "code",
   "execution_count": 39,
   "metadata": {},
   "outputs": [
    {
     "data": {
      "text/html": [
       "<div>\n",
       "<style scoped>\n",
       "    .dataframe tbody tr th:only-of-type {\n",
       "        vertical-align: middle;\n",
       "    }\n",
       "\n",
       "    .dataframe tbody tr th {\n",
       "        vertical-align: top;\n",
       "    }\n",
       "\n",
       "    .dataframe thead th {\n",
       "        text-align: right;\n",
       "    }\n",
       "</style>\n",
       "<table border=\"1\" class=\"dataframe\">\n",
       "  <thead>\n",
       "    <tr style=\"text-align: right;\">\n",
       "      <th></th>\n",
       "      <th>Fuel</th>\n",
       "      <th>City MPG</th>\n",
       "      <th>Year</th>\n",
       "    </tr>\n",
       "  </thead>\n",
       "  <tbody>\n",
       "    <tr>\n",
       "      <th>0</th>\n",
       "      <td>Gasoline</td>\n",
       "      <td>24</td>\n",
       "      <td>2020-01-01</td>\n",
       "    </tr>\n",
       "    <tr>\n",
       "      <th>1</th>\n",
       "      <td>Gasoline</td>\n",
       "      <td>24</td>\n",
       "      <td>2020-01-01</td>\n",
       "    </tr>\n",
       "    <tr>\n",
       "      <th>2</th>\n",
       "      <td>Gasoline</td>\n",
       "      <td>26</td>\n",
       "      <td>2020-01-01</td>\n",
       "    </tr>\n",
       "    <tr>\n",
       "      <th>3</th>\n",
       "      <td>Gasoline</td>\n",
       "      <td>26</td>\n",
       "      <td>2020-01-01</td>\n",
       "    </tr>\n",
       "    <tr>\n",
       "      <th>4</th>\n",
       "      <td>Gasoline</td>\n",
       "      <td>20</td>\n",
       "      <td>2020-01-01</td>\n",
       "    </tr>\n",
       "  </tbody>\n",
       "</table>\n",
       "</div>"
      ],
      "text/plain": [
       "       Fuel City MPG       Year\n",
       "0  Gasoline       24 2020-01-01\n",
       "1  Gasoline       24 2020-01-01\n",
       "2  Gasoline       26 2020-01-01\n",
       "3  Gasoline       26 2020-01-01\n",
       "4  Gasoline       20 2020-01-01"
      ]
     },
     "execution_count": 39,
     "metadata": {},
     "output_type": "execute_result"
    }
   ],
   "source": [
    "# Subset to keep relevant columns\n",
    "merged_data_subset = merged_data[['Fuel', 'City MPG', 'Year']]\n",
    "merged_data_subset.head()"
   ]
  },
  {
   "cell_type": "markdown",
   "metadata": {},
   "source": [
    "### Missing values"
   ]
  },
  {
   "cell_type": "code",
   "execution_count": 40,
   "metadata": {},
   "outputs": [
    {
     "name": "stdout",
     "output_type": "stream",
     "text": [
      "Proportion of missing values for each column (before dropping):\n",
      "Fuel        0.0000\n",
      "City MPG    0.0531\n",
      "Year        0.0000\n",
      "dtype: float64\n"
     ]
    }
   ],
   "source": [
    "# Inspect proportion of missing values across all columns\n",
    "missing_proportion = round(merged_data_subset.isnull().sum(axis=0) / len(merged_data_subset), 4)\n",
    "\n",
    "print(\"Proportion of missing values for each column (before dropping):\")\n",
    "print(missing_proportion)"
   ]
  },
  {
   "cell_type": "code",
   "execution_count": 41,
   "metadata": {},
   "outputs": [],
   "source": [
    "# Create a copy of the DataFrame\n",
    "clean_df = merged_data_subset.copy()"
   ]
  },
  {
   "cell_type": "code",
   "execution_count": 42,
   "metadata": {},
   "outputs": [],
   "source": [
    "# Drop rows with missing values in 'City MPG' column\n",
    "clean_df.dropna(subset=['City MPG'], inplace=True)"
   ]
  },
  {
   "cell_type": "code",
   "execution_count": 43,
   "metadata": {},
   "outputs": [],
   "source": [
    "# Calculate the threshold for dropping columns based on 50% missing values\n",
    "threshold = len(clean_df) * 0.5\n",
    "\n",
    "# Drop columns where at least 50% of the data is missing\n",
    "clean_df.dropna(axis=1, thresh=threshold, inplace=True)"
   ]
  },
  {
   "cell_type": "code",
   "execution_count": 44,
   "metadata": {},
   "outputs": [
    {
     "name": "stdout",
     "output_type": "stream",
     "text": [
      "Proportion of missing values for each column (after dropping):\n",
      "Fuel        0.0\n",
      "City MPG    0.0\n",
      "Year        0.0\n",
      "dtype: float64\n"
     ]
    }
   ],
   "source": [
    "# Inspect proportion of missing values across all columns\n",
    "missing_proportion = round(clean_df.isnull().sum(axis=0) / len(clean_df), 4)\n",
    "\n",
    "print(\"Proportion of missing values for each column (after dropping):\")\n",
    "print(missing_proportion)"
   ]
  },
  {
   "cell_type": "markdown",
   "metadata": {},
   "source": [
    "### Standardizing `Fuel`\n",
    "Below we see some spelling/capitalization inconsistencies with `Fuel` values."
   ]
  },
  {
   "cell_type": "code",
   "execution_count": 45,
   "metadata": {},
   "outputs": [
    {
     "data": {
      "text/plain": [
       "array(['Gasoline', 'Gasoline/Electricity', 'Electricity', 'Diesel',\n",
       "       'Ethanol/Gas', 'Hydrogen', 'CNG/Gasoline', 'CNG', 'ethanol/gas',\n",
       "       'ethanol', 'diesel', 'Gasoline/Electricty', 'Electricity/Gasoline',\n",
       "       'CNG/gas', 'Ethanol'], dtype=object)"
      ]
     },
     "execution_count": 45,
     "metadata": {},
     "output_type": "execute_result"
    }
   ],
   "source": [
    "# Get unique values for `Fuel` before standardizing\n",
    "clean_df['Fuel'].unique()"
   ]
  },
  {
   "cell_type": "markdown",
   "metadata": {},
   "source": [
    "Standardize the values by correcting any misspellings, capitalization inconsistencies, or variations in representation to ensure that each unique value in the `Fuel` column is consistently represented in the dataset."
   ]
  },
  {
   "cell_type": "code",
   "execution_count": 46,
   "metadata": {},
   "outputs": [],
   "source": [
    "# Define a mapping dictionary to map variations to their standardized form\n",
    "fuel_mapping = {\n",
    "    'Gasoline': 'Gasoline',\n",
    "    'Gasoline/Electricity': 'Gasoline/Electricity',\n",
    "    'Electricity': 'Electricity',\n",
    "    'Diesel': 'Diesel',\n",
    "    'Ethanol/Gas': 'Ethanol/Gas',\n",
    "    'Hydrogen': 'Hydrogen',\n",
    "    'CNG/Gasoline': 'CNG/Gasoline',\n",
    "    'CNG': 'CNG',\n",
    "    'ethanol/gas': 'Ethanol/Gas',\n",
    "    'ethanol': 'Ethanol',\n",
    "    'diesel': 'Diesel',\n",
    "    'Gasoline/Electricty': 'Gasoline/Electricity',\n",
    "    'Electricity/Gasoline': 'Gasoline/Electricity',\n",
    "    'CNG/gas': 'CNG/Gasoline',\n",
    "    'Ethanol': 'Ethanol',\n",
    "    # Add more mappings if needed\n",
    "}\n",
    "\n",
    "# Map the values in the 'Fuel' column using the mapping dictionary\n",
    "clean_df['Fuel'] = clean_df['Fuel'].map(fuel_mapping)"
   ]
  },
  {
   "cell_type": "code",
   "execution_count": 47,
   "metadata": {},
   "outputs": [
    {
     "data": {
      "text/plain": [
       "array(['Gasoline', 'Gasoline/Electricity', 'Electricity', 'Diesel',\n",
       "       'Ethanol/Gas', 'Hydrogen', 'CNG/Gasoline', 'CNG', 'Ethanol'],\n",
       "      dtype=object)"
      ]
     },
     "execution_count": 47,
     "metadata": {},
     "output_type": "execute_result"
    }
   ],
   "source": [
    "# Get unique values for `Fuel` after standardizing\n",
    "clean_df['Fuel'].unique()"
   ]
  },
  {
   "cell_type": "markdown",
   "metadata": {},
   "source": [
    "### Standardizing `City MPG`\n",
    "`dtype('O')` represents the data type 'object'. This indicates that the column tmay contain text data, such as strings, but it can also include other non-numeric types like datetime objects, Python objects, or even a mix of different types."
   ]
  },
  {
   "cell_type": "code",
   "execution_count": 48,
   "metadata": {},
   "outputs": [
    {
     "data": {
      "text/plain": [
       "dtype('O')"
      ]
     },
     "execution_count": 48,
     "metadata": {},
     "output_type": "execute_result"
    }
   ],
   "source": [
    "# Get the data type of the column\n",
    "clean_df['City MPG'].dtype"
   ]
  },
  {
   "cell_type": "markdown",
   "metadata": {},
   "source": [
    "Lets attempt to make the column numeric."
   ]
  },
  {
   "cell_type": "code",
   "execution_count": 49,
   "metadata": {},
   "outputs": [
    {
     "name": "stdout",
     "output_type": "stream",
     "text": [
      "ValueError occurred: Unable to parse string \"21/49\" at position 88\n"
     ]
    }
   ],
   "source": [
    "try:\n",
    "    # Convert the column to numeric\n",
    "    clean_df['City MPG'] = pd.to_numeric(clean_df['City MPG'])\n",
    "except ValueError as e:\n",
    "    print(\"ValueError occurred:\", e)"
   ]
  },
  {
   "cell_type": "markdown",
   "metadata": {},
   "source": [
    "Although most rows look numeric, there are some that cannot be parsed as numeric. Lets further inspect these cases."
   ]
  },
  {
   "cell_type": "code",
   "execution_count": 50,
   "metadata": {},
   "outputs": [
    {
     "name": "stdout",
     "output_type": "stream",
     "text": [
      "Rows with non-integer values:\n"
     ]
    },
    {
     "data": {
      "text/html": [
       "<div>\n",
       "<style scoped>\n",
       "    .dataframe tbody tr th:only-of-type {\n",
       "        vertical-align: middle;\n",
       "    }\n",
       "\n",
       "    .dataframe tbody tr th {\n",
       "        vertical-align: top;\n",
       "    }\n",
       "\n",
       "    .dataframe thead th {\n",
       "        text-align: right;\n",
       "    }\n",
       "</style>\n",
       "<table border=\"1\" class=\"dataframe\">\n",
       "  <thead>\n",
       "    <tr style=\"text-align: right;\">\n",
       "      <th></th>\n",
       "      <th>Fuel</th>\n",
       "      <th>City MPG</th>\n",
       "      <th>Year</th>\n",
       "    </tr>\n",
       "  </thead>\n",
       "  <tbody>\n",
       "    <tr>\n",
       "      <th>88</th>\n",
       "      <td>Gasoline/Electricity</td>\n",
       "      <td>21/49</td>\n",
       "      <td>2020-01-01</td>\n",
       "    </tr>\n",
       "    <tr>\n",
       "      <th>89</th>\n",
       "      <td>Gasoline/Electricity</td>\n",
       "      <td>21/49</td>\n",
       "      <td>2020-01-01</td>\n",
       "    </tr>\n",
       "    <tr>\n",
       "      <th>94</th>\n",
       "      <td>Gasoline/Electricity</td>\n",
       "      <td>25/64</td>\n",
       "      <td>2020-01-01</td>\n",
       "    </tr>\n",
       "    <tr>\n",
       "      <th>95</th>\n",
       "      <td>Gasoline/Electricity</td>\n",
       "      <td>25/64</td>\n",
       "      <td>2020-01-01</td>\n",
       "    </tr>\n",
       "    <tr>\n",
       "      <th>144</th>\n",
       "      <td>Gasoline/Electricity</td>\n",
       "      <td>17/43</td>\n",
       "      <td>2020-01-01</td>\n",
       "    </tr>\n",
       "    <tr>\n",
       "      <th>...</th>\n",
       "      <td>...</td>\n",
       "      <td>...</td>\n",
       "      <td>...</td>\n",
       "    </tr>\n",
       "    <tr>\n",
       "      <th>58424</th>\n",
       "      <td>Gasoline/Electricity</td>\n",
       "      <td>30/74</td>\n",
       "      <td>2024-01-01</td>\n",
       "    </tr>\n",
       "    <tr>\n",
       "      <th>58437</th>\n",
       "      <td>Gasoline/Electricity</td>\n",
       "      <td>28/66</td>\n",
       "      <td>2024-01-01</td>\n",
       "    </tr>\n",
       "    <tr>\n",
       "      <th>58438</th>\n",
       "      <td>Gasoline/Electricity</td>\n",
       "      <td>28/66</td>\n",
       "      <td>2024-01-01</td>\n",
       "    </tr>\n",
       "    <tr>\n",
       "      <th>58443</th>\n",
       "      <td>Gasoline/Electricity</td>\n",
       "      <td>26/59</td>\n",
       "      <td>2024-01-01</td>\n",
       "    </tr>\n",
       "    <tr>\n",
       "      <th>58444</th>\n",
       "      <td>Gasoline/Electricity</td>\n",
       "      <td>26/59</td>\n",
       "      <td>2024-01-01</td>\n",
       "    </tr>\n",
       "  </tbody>\n",
       "</table>\n",
       "<p>3174 rows × 3 columns</p>\n",
       "</div>"
      ],
      "text/plain": [
       "                       Fuel City MPG       Year\n",
       "88     Gasoline/Electricity    21/49 2020-01-01\n",
       "89     Gasoline/Electricity    21/49 2020-01-01\n",
       "94     Gasoline/Electricity    25/64 2020-01-01\n",
       "95     Gasoline/Electricity    25/64 2020-01-01\n",
       "144    Gasoline/Electricity    17/43 2020-01-01\n",
       "...                     ...      ...        ...\n",
       "58424  Gasoline/Electricity    30/74 2024-01-01\n",
       "58437  Gasoline/Electricity    28/66 2024-01-01\n",
       "58438  Gasoline/Electricity    28/66 2024-01-01\n",
       "58443  Gasoline/Electricity    26/59 2024-01-01\n",
       "58444  Gasoline/Electricity    26/59 2024-01-01\n",
       "\n",
       "[3174 rows x 3 columns]"
      ]
     },
     "execution_count": 50,
     "metadata": {},
     "output_type": "execute_result"
    }
   ],
   "source": [
    "# Filter the DataFrame to view rows that do not contain typical integer values\n",
    "invalid_rows = clean_df[pd.to_numeric(clean_df['City MPG'], errors='coerce').isnull()]\n",
    "print(\"Rows with non-integer values:\")\n",
    "invalid_rows"
   ]
  },
  {
   "cell_type": "markdown",
   "metadata": {},
   "source": [
    "Lets replace `City MPG` for these rows with the average of the two integers listed."
   ]
  },
  {
   "cell_type": "code",
   "execution_count": 51,
   "metadata": {},
   "outputs": [],
   "source": [
    "# A function to extract and calculate the average of two numeric-looking values\n",
    "def replace_slash_with_average(value):\n",
    "    # Check if the value contains a slash and two numeric-looking values\n",
    "    if '/' in value:\n",
    "        parts = value.split('/')\n",
    "        if all(re.match(r'^\\d+$', part) for part in parts):\n",
    "            # Calculate the average of the two numbers\n",
    "            average = (int(parts[0]) + int(parts[1])) / 2\n",
    "            return average\n",
    "    return value\n",
    "\n",
    "# Apply the function to the 'Fuel' column\n",
    "clean_df['City MPG'] = clean_df['City MPG'].apply(replace_slash_with_average)"
   ]
  },
  {
   "cell_type": "markdown",
   "metadata": {},
   "source": [
    "Lets attempt to make `Fuel` numeric again."
   ]
  },
  {
   "cell_type": "code",
   "execution_count": 52,
   "metadata": {},
   "outputs": [
    {
     "name": "stdout",
     "output_type": "stream",
     "text": [
      "ValueError occurred: Unable to parse string \"N/A*\" at position 5375\n"
     ]
    }
   ],
   "source": [
    "try:\n",
    "    # Convert the column to numeric\n",
    "    clean_df['City MPG'] = pd.to_numeric(clean_df['City MPG'])\n",
    "except ValueError as e:\n",
    "    print(\"ValueError occurred:\", e)"
   ]
  },
  {
   "cell_type": "markdown",
   "metadata": {},
   "source": [
    "Uh-oh we also have rows with the string `\"N/A*\"`. Lets drop them."
   ]
  },
  {
   "cell_type": "code",
   "execution_count": 53,
   "metadata": {},
   "outputs": [],
   "source": [
    "# Remove rows with string \"N/A*\"\n",
    "clean_df = clean_df[clean_df['City MPG'] != \"N/A*\"]"
   ]
  },
  {
   "cell_type": "markdown",
   "metadata": {},
   "source": [
    "Lets try once again to make the column numeric."
   ]
  },
  {
   "cell_type": "code",
   "execution_count": 54,
   "metadata": {},
   "outputs": [],
   "source": [
    "try:\n",
    "    # Convert the column to numeric\n",
    "    clean_df['City MPG'] = pd.to_numeric(clean_df['City MPG'])\n",
    "except ValueError as e:\n",
    "    print(\"ValueError occurred:\", e)"
   ]
  },
  {
   "cell_type": "code",
   "execution_count": 55,
   "metadata": {},
   "outputs": [
    {
     "data": {
      "text/plain": [
       "dtype('float64')"
      ]
     },
     "execution_count": 55,
     "metadata": {},
     "output_type": "execute_result"
    }
   ],
   "source": [
    "# Get the data type of the column\n",
    "clean_df['City MPG'].dtype"
   ]
  },
  {
   "cell_type": "markdown",
   "metadata": {},
   "source": [
    "### Aggregate data by `Fuel`, `Year`"
   ]
  },
  {
   "cell_type": "code",
   "execution_count": 56,
   "metadata": {},
   "outputs": [
    {
     "data": {
      "text/html": [
       "<div>\n",
       "<style scoped>\n",
       "    .dataframe tbody tr th:only-of-type {\n",
       "        vertical-align: middle;\n",
       "    }\n",
       "\n",
       "    .dataframe tbody tr th {\n",
       "        vertical-align: top;\n",
       "    }\n",
       "\n",
       "    .dataframe thead th {\n",
       "        text-align: right;\n",
       "    }\n",
       "</style>\n",
       "<table border=\"1\" class=\"dataframe\">\n",
       "  <thead>\n",
       "    <tr style=\"text-align: right;\">\n",
       "      <th></th>\n",
       "      <th>Fuel</th>\n",
       "      <th>Year</th>\n",
       "      <th>Avg City MPG</th>\n",
       "    </tr>\n",
       "  </thead>\n",
       "  <tbody>\n",
       "    <tr>\n",
       "      <th>0</th>\n",
       "      <td>CNG</td>\n",
       "      <td>2000-01-01</td>\n",
       "      <td>22.333333</td>\n",
       "    </tr>\n",
       "    <tr>\n",
       "      <th>1</th>\n",
       "      <td>CNG</td>\n",
       "      <td>2001-01-01</td>\n",
       "      <td>14.384615</td>\n",
       "    </tr>\n",
       "    <tr>\n",
       "      <th>2</th>\n",
       "      <td>CNG</td>\n",
       "      <td>2002-01-01</td>\n",
       "      <td>15.250000</td>\n",
       "    </tr>\n",
       "    <tr>\n",
       "      <th>3</th>\n",
       "      <td>CNG</td>\n",
       "      <td>2003-01-01</td>\n",
       "      <td>13.500000</td>\n",
       "    </tr>\n",
       "    <tr>\n",
       "      <th>4</th>\n",
       "      <td>CNG</td>\n",
       "      <td>2004-01-01</td>\n",
       "      <td>16.200000</td>\n",
       "    </tr>\n",
       "    <tr>\n",
       "      <th>...</th>\n",
       "      <td>...</td>\n",
       "      <td>...</td>\n",
       "      <td>...</td>\n",
       "    </tr>\n",
       "    <tr>\n",
       "      <th>138</th>\n",
       "      <td>Hydrogen</td>\n",
       "      <td>2020-01-01</td>\n",
       "      <td>64.750000</td>\n",
       "    </tr>\n",
       "    <tr>\n",
       "      <th>139</th>\n",
       "      <td>Hydrogen</td>\n",
       "      <td>2021-01-01</td>\n",
       "      <td>67.000000</td>\n",
       "    </tr>\n",
       "    <tr>\n",
       "      <th>140</th>\n",
       "      <td>Hydrogen</td>\n",
       "      <td>2022-01-01</td>\n",
       "      <td>68.600000</td>\n",
       "    </tr>\n",
       "    <tr>\n",
       "      <th>141</th>\n",
       "      <td>Hydrogen</td>\n",
       "      <td>2023-01-01</td>\n",
       "      <td>68.600000</td>\n",
       "    </tr>\n",
       "    <tr>\n",
       "      <th>142</th>\n",
       "      <td>Hydrogen</td>\n",
       "      <td>2024-01-01</td>\n",
       "      <td>66.750000</td>\n",
       "    </tr>\n",
       "  </tbody>\n",
       "</table>\n",
       "<p>143 rows × 3 columns</p>\n",
       "</div>"
      ],
      "text/plain": [
       "         Fuel       Year  Avg City MPG\n",
       "0         CNG 2000-01-01     22.333333\n",
       "1         CNG 2001-01-01     14.384615\n",
       "2         CNG 2002-01-01     15.250000\n",
       "3         CNG 2003-01-01     13.500000\n",
       "4         CNG 2004-01-01     16.200000\n",
       "..        ...        ...           ...\n",
       "138  Hydrogen 2020-01-01     64.750000\n",
       "139  Hydrogen 2021-01-01     67.000000\n",
       "140  Hydrogen 2022-01-01     68.600000\n",
       "141  Hydrogen 2023-01-01     68.600000\n",
       "142  Hydrogen 2024-01-01     66.750000\n",
       "\n",
       "[143 rows x 3 columns]"
      ]
     },
     "execution_count": 56,
     "metadata": {},
     "output_type": "execute_result"
    }
   ],
   "source": [
    "# Perform the aggregation\n",
    "aggregated_df = clean_df.groupby(['Fuel', 'Year']).agg({'City MPG': 'mean'})\n",
    "\n",
    "# Reset the index to make 'Fuel' and 'Year' columns again\n",
    "aggregated_df = aggregated_df.reset_index()\n",
    "\n",
    "# Rename 'City MPG' column to 'Avg City MPG'\n",
    "aggregated_df.rename(columns={'City MPG': 'Avg City MPG'}, inplace=True)\n",
    "\n",
    "aggregated_df"
   ]
  },
  {
   "cell_type": "markdown",
   "metadata": {},
   "source": [
    "### Data Visualization"
   ]
  },
  {
   "cell_type": "code",
   "execution_count": 57,
   "metadata": {},
   "outputs": [
    {
     "data": {
      "image/png": "[encoded data removed]",
      "text/plain": [
       "<Figure size 1000x600 with 1 Axes>"
      ]
     },
     "metadata": {},
     "output_type": "display_data"
    }
   ],
   "source": [
    "# Set the style\n",
    "sns.set_style(\"whitegrid\")\n",
    "\n",
    "# Create the plot\n",
    "plt.figure(figsize=(10, 6))\n",
    "sns.lineplot(data=aggregated_df, x='Year', y='Avg City MPG', hue='Fuel', marker='o')\n",
    "\n",
    "# Set the title and labels\n",
    "plt.title('Average City MPG by Fuel Type Over Time')\n",
    "plt.xlabel('Year')\n",
    "plt.ylabel('Avg City MPG')\n",
    "\n",
    "# Tilt the x-axis labels\n",
    "# plt.xticks(rotation=45)\n",
    "\n",
    "# Show the plot\n",
    "plt.legend(title='Fuel Type')\n",
    "plt.tight_layout()\n",
    "plt.show()"
   ]
  },
  {
   "cell_type": "markdown",
   "metadata": {},
   "source": [
    "## Step 6: Build the model and optimize it"
   ]
  },
  {
   "cell_type": "code",
   "execution_count": 58,
   "metadata": {},
   "outputs": [
    {
     "data": {
      "text/plain": [
       "Year\n",
       "2000-01-01    32.000000\n",
       "2001-01-01    32.000000\n",
       "2002-01-01    32.000000\n",
       "2003-01-01    32.000000\n",
       "2004-01-01    27.454545\n",
       "2005-01-01    27.266667\n",
       "2006-01-01    25.600000\n",
       "2007-01-01    18.428571\n",
       "2008-01-01    18.142857\n",
       "2009-01-01    25.000000\n",
       "2010-01-01    25.454545\n",
       "2011-01-01    25.260870\n",
       "2012-01-01    26.181818\n",
       "2013-01-01    26.000000\n",
       "2014-01-01    25.614035\n",
       "2015-01-01    26.333333\n",
       "2016-01-01    23.423077\n",
       "2017-01-01    25.894737\n",
       "2018-01-01    25.324324\n",
       "2019-01-01    24.448276\n",
       "2020-01-01    21.100000\n",
       "2021-01-01    20.966667\n",
       "2022-01-01    20.862069\n",
       "2023-01-01    21.272727\n",
       "2024-01-01    21.000000\n",
       "Name: Avg City MPG, dtype: float64"
      ]
     },
     "execution_count": 58,
     "metadata": {},
     "output_type": "execute_result"
    }
   ],
   "source": [
    "# Subset for records where 'Fuel' is 'Diesel'\n",
    "fuel_subset = aggregated_df[aggregated_df['Fuel'] == 'Diesel']\n",
    "\n",
    "# Drop 'Fuel' column\n",
    "fuel_subset = fuel_subset[['Year', 'Avg City MPG']]\n",
    "\n",
    "# Set index to 'Year'\n",
    "fuel_subset = fuel_subset.set_index('Year')\n",
    "\n",
    "# Obtain time series data\n",
    "ts = fuel_subset['Avg City MPG']\n",
    "ts"
   ]
  },
  {
   "cell_type": "code",
   "execution_count": 59,
   "metadata": {},
   "outputs": [
    {
     "data": {
      "image/png": "[encoded data removed]",
      "text/plain": [
       "<Figure size 1000x400 with 1 Axes>"
      ]
     },
     "metadata": {},
     "output_type": "display_data"
    }
   ],
   "source": [
    "# Set the style\n",
    "sns.set_style(\"whitegrid\")\n",
    "\n",
    "# Create the plot\n",
    "plt.figure(figsize=(10, 4))\n",
    "sns.lineplot(data=ts, marker='o', legend=False)\n",
    "\n",
    "# Set the title and labels\n",
    "plt.title('Average City MPG for Diesel Over Time')\n",
    "plt.xlabel('Year')\n",
    "plt.ylabel('Avg City MPG')\n",
    "\n",
    "# Tilt the x-axis labels\n",
    "# plt.xticks(rotation=45)\n",
    "\n",
    "# Show the plot\n",
    "plt.tight_layout()\n",
    "plt.show()"
   ]
  },
  {
   "cell_type": "markdown",
   "metadata": {},
   "source": [
    "### Train/test split"
   ]
  },
  {
   "cell_type": "code",
   "execution_count": 60,
   "metadata": {},
   "outputs": [],
   "source": [
    "# Split data into 80/20 train/test\n",
    "train_size = int(len(ts) * 0.8)\n",
    "train, test = ts[:train_size], ts[train_size:]"
   ]
  },
  {
   "cell_type": "code",
   "execution_count": 61,
   "metadata": {},
   "outputs": [
    {
     "data": {
      "image/png": "[encoded data removed]",
      "text/plain": [
       "<Figure size 1200x400 with 1 Axes>"
      ]
     },
     "metadata": {},
     "output_type": "display_data"
    }
   ],
   "source": [
    "# Plot train and test\n",
    "plt.figure(figsize=(12, 4))\n",
    "plt.plot(ts.index, ts, label='Train')\n",
    "plt.plot(test.index, test, label='Test')\n",
    "plt.title('Average City MPG for Diesel Over Time')\n",
    "plt.xlabel('Year')\n",
    "plt.ylabel('Avg City MPG')\n",
    "plt.legend()\n",
    "plt.show()"
   ]
  },
  {
   "cell_type": "markdown",
   "metadata": {},
   "source": [
    "### Check for stationarity and apply differencing if needed\n",
    "To evaluate the stationarity of the time series we can apply the so-called Dickey-Fuller test, which is a hypothesis test in which the null hypothesis is that the series is stationary, and the alternative is that it is non-stationary:"
   ]
  },
  {
   "cell_type": "code",
   "execution_count": 62,
   "metadata": {},
   "outputs": [
    {
     "name": "stdout",
     "output_type": "stream",
     "text": [
      "Dickey-Fuller test results:\n"
     ]
    },
    {
     "data": {
      "text/plain": [
       "Test Statistic                 -2.690456\n",
       "p-value                         0.075704\n",
       "#Lags Used                      8.000000\n",
       "Number of Observations Used    11.000000\n",
       "Critical Value (1%)            -4.223238\n",
       "Critical Value (5%)            -3.189369\n",
       "Critical Value (10%)           -2.729839\n",
       "dtype: float64"
      ]
     },
     "execution_count": 62,
     "metadata": {},
     "output_type": "execute_result"
    }
   ],
   "source": [
    "# Check for stationarity\n",
    "def test_stationarity(timeseries):\n",
    "    print(\"Dickey-Fuller test results:\")\n",
    "    dftest = adfuller(timeseries, autolag = \"AIC\")\n",
    "    dfoutput = pd.Series(dftest[0:4], index = [\"Test Statistic\", \"p-value\", \"#Lags Used\", \"Number of Observations Used\"])\n",
    "    for key,value in dftest[4].items():\n",
    "        dfoutput[\"Critical Value (%s)\"%key] = value\n",
    "    return dfoutput\n",
    "\n",
    "# Check for stationarity in the train set\n",
    "test_stationarity(train)"
   ]
  },
  {
   "cell_type": "markdown",
   "metadata": {},
   "source": [
    "Here we can see that the `p-value` is greater than 0.05, which means that our null hypothesis will be rejected, and we will take this series as non-stationary.\n",
    "\n",
    "We can apply some sort of transformation to make the time-series stationary. These transformation may include:\n",
    "\n",
    "1. Differencing the Series (once or more)\n",
    "\n",
    "2. Take the log of the series\n",
    "\n",
    "3. Take the nth root of the series\n",
    "\n",
    "4. Combination of the above\n",
    "\n",
    "The most commonly used and convenient method to stationarize the series is by differencing the series at least once until it becomes approximately stationary."
   ]
  },
  {
   "cell_type": "code",
   "execution_count": 63,
   "metadata": {},
   "outputs": [
    {
     "data": {
      "text/plain": [
       "Year\n",
       "2001-01-01    0.000000\n",
       "2002-01-01    0.000000\n",
       "2003-01-01    0.000000\n",
       "2004-01-01   -4.545455\n",
       "2005-01-01   -0.187879\n",
       "2006-01-01   -1.666667\n",
       "2007-01-01   -7.171429\n",
       "2008-01-01   -0.285714\n",
       "2009-01-01    6.857143\n",
       "2010-01-01    0.454545\n",
       "2011-01-01   -0.193676\n",
       "2012-01-01    0.920949\n",
       "2013-01-01   -0.181818\n",
       "2014-01-01   -0.385965\n",
       "2015-01-01    0.719298\n",
       "2016-01-01   -2.910256\n",
       "2017-01-01    2.471660\n",
       "2018-01-01   -0.570413\n",
       "2019-01-01   -0.876048\n",
       "Name: Avg City MPG, dtype: float64"
      ]
     },
     "execution_count": 63,
     "metadata": {},
     "output_type": "execute_result"
    }
   ],
   "source": [
    "# Apply differencing to train\n",
    "train_diff = train.diff().dropna()\n",
    "train_diff"
   ]
  },
  {
   "cell_type": "markdown",
   "metadata": {},
   "source": [
    "Because the `p-value` is less than 0.05, which means that our null hypothesis will be not rejected, and we will take this series as stationary."
   ]
  },
  {
   "cell_type": "code",
   "execution_count": 64,
   "metadata": {},
   "outputs": [
    {
     "name": "stdout",
     "output_type": "stream",
     "text": [
      "Dickey-Fuller test results:\n"
     ]
    },
    {
     "data": {
      "text/plain": [
       "Test Statistic                 -4.356589\n",
       "p-value                         0.000354\n",
       "#Lags Used                      6.000000\n",
       "Number of Observations Used    12.000000\n",
       "Critical Value (1%)            -4.137829\n",
       "Critical Value (5%)            -3.154972\n",
       "Critical Value (10%)           -2.714477\n",
       "dtype: float64"
      ]
     },
     "execution_count": 64,
     "metadata": {},
     "output_type": "execute_result"
    }
   ],
   "source": [
    "# Check for stationarity again\n",
    "test_stationarity(train_diff)"
   ]
  },
  {
   "cell_type": "markdown",
   "metadata": {},
   "source": [
    "Because 1 order of differencing was applied, the $d$ paramater of $\\text{ARIMA}(p,d,q)$ will be set to 1."
   ]
  },
  {
   "cell_type": "markdown",
   "metadata": {},
   "source": [
    "### Autocorrelation analysis"
   ]
  },
  {
   "cell_type": "code",
   "execution_count": 65,
   "metadata": {},
   "outputs": [
    {
     "data": {
      "image/png": "[encoded data removed]",
      "text/plain": [
       "<Figure size 640x480 with 1 Axes>"
      ]
     },
     "metadata": {},
     "output_type": "display_data"
    },
    {
     "data": {
      "image/png": "[encoded data removed]",
      "text/plain": [
       "<Figure size 640x480 with 1 Axes>"
      ]
     },
     "metadata": {},
     "output_type": "display_data"
    }
   ],
   "source": [
    "# Plot ACF\n",
    "fig, ax = plt.subplots()\n",
    "plot_acf(train_diff, ax=ax)\n",
    "ax.set_title('Autocorrelation Function (ACF)')\n",
    "ax.set_ylim(-1.10, 1.10)  \n",
    "\n",
    "# Plot PACF\n",
    "fig, ax = plt.subplots()\n",
    "plot_pacf(train_diff, ax=ax)  \n",
    "ax.set_title('Partial Autocorrelation Function (PACF)')\n",
    "ax.set_ylim(-1.10, 1.10)  \n",
    "\n",
    "plt.show()"
   ]
  },
  {
   "cell_type": "markdown",
   "metadata": {},
   "source": [
    "Based on the ACF and PACF plots, the $q$ and $p$ parameters paramater of $\\text{ARIMA}(p,d,q)$ will be set to 0. So the model we want to train is $\\text{ARIMA}(0,1,0)$."
   ]
  },
  {
   "cell_type": "markdown",
   "metadata": {},
   "source": [
    "### Model training\n",
    "We can validate the model parameters using the `auto_arima` function."
   ]
  },
  {
   "cell_type": "code",
   "execution_count": 66,
   "metadata": {},
   "outputs": [
    {
     "name": "stdout",
     "output_type": "stream",
     "text": [
      "Performing stepwise search to minimize aic\n",
      " ARIMA(2,0,2)(0,0,0)[0] intercept   : AIC=103.681, Time=0.24 sec\n",
      " ARIMA(0,0,0)(0,0,0)[0] intercept   : AIC=113.385, Time=0.01 sec\n",
      " ARIMA(1,0,0)(0,0,0)[0] intercept   : AIC=100.787, Time=0.05 sec\n",
      " ARIMA(0,0,1)(0,0,0)[0] intercept   : AIC=102.087, Time=0.03 sec\n",
      " ARIMA(0,0,0)(0,0,0)[0]             : AIC=189.776, Time=0.01 sec\n",
      " ARIMA(2,0,0)(0,0,0)[0] intercept   : AIC=102.009, Time=0.04 sec\n",
      " ARIMA(1,0,1)(0,0,0)[0] intercept   : AIC=101.077, Time=0.04 sec\n",
      " ARIMA(2,0,1)(0,0,0)[0] intercept   : AIC=102.756, Time=0.08 sec\n",
      " ARIMA(1,0,0)(0,0,0)[0]             : AIC=inf, Time=0.02 sec\n",
      "\n",
      "Best model:  ARIMA(1,0,0)(0,0,0)[0] intercept\n",
      "Total fit time: 0.565 seconds\n"
     ]
    }
   ],
   "source": [
    "model = auto_arima(train, trace = True)"
   ]
  },
  {
   "cell_type": "code",
   "execution_count": 67,
   "metadata": {},
   "outputs": [
    {
     "data": {
      "text/plain": [
       "2020-01-01    25.012138\n",
       "2021-01-01    25.431535\n",
       "2022-01-01    25.743480\n",
       "2023-01-01    25.975502\n",
       "2024-01-01    26.148078\n",
       "Freq: YS-JAN, dtype: float64"
      ]
     },
     "execution_count": 67,
     "metadata": {},
     "output_type": "execute_result"
    }
   ],
   "source": [
    "# Forecast future predictions\n",
    "forecast_steps = len(test)\n",
    "forecast, conf_int = model.predict(n_periods=forecast_steps, return_conf_int=True)\n",
    "forecast"
   ]
  },
  {
   "cell_type": "code",
   "execution_count": 68,
   "metadata": {},
   "outputs": [
    {
     "name": "stdout",
     "output_type": "stream",
     "text": [
      "Test RMSE: 4.641\n"
     ]
    },
    {
     "data": {
      "image/png": "[encoded data removed]",
      "text/plain": [
       "<Figure size 1200x400 with 1 Axes>"
      ]
     },
     "metadata": {},
     "output_type": "display_data"
    }
   ],
   "source": [
    "# Calculate RMSE\n",
    "rmse = sqrt(mean_squared_error(test, forecast))\n",
    "print('Test RMSE: %.3f' % rmse)\n",
    "\n",
    "# Assuming your series is named 'data'\n",
    "last_element_index = train.index[-1]  # Get the index of the last element\n",
    "last_element_value = train.iloc[-1]   # Get the value of the last element\n",
    "\n",
    "# Create a Series with the last element and its index\n",
    "last_element_series = pd.Series(last_element_value, index=[last_element_index])\n",
    "\n",
    "# Concatenate the two series\n",
    "forecast_series = pd.concat([last_element_series, forecast])\n",
    "\n",
    "# Concatenate the two series\n",
    "test_series = pd.concat([last_element_series, test])\n",
    "\n",
    "# Plot train, test, and forecasts with confidence intervals\n",
    "plt.figure(figsize=(12, 4))\n",
    "plt.plot(train.index, train, color='steelblue', label='Train')\n",
    "plt.plot(test_series.index, test_series, color='orange', label='Test')\n",
    "plt.plot(forecast_series.index, forecast_series, color='red', linestyle='--', label='Forecast')\n",
    "\n",
    "# Plot upper and lower confidence intervals\n",
    "# plt.fill_between(forecast.index, conf_int[:, 0], conf_int[:, 1], color='pink', alpha=0.3, label='Confidence Interval')\n",
    "\n",
    "plt.title('ARIMA Forecast vs Actual')\n",
    "plt.xlabel('Year')\n",
    "plt.ylabel('Avg City MPG')\n",
    "plt.legend()\n",
    "plt.show()"
   ]
  }
 ],
 "metadata": {
  "kernelspec": {
   "display_name": "Python 3",
   "language": "python",
   "name": "python3"
  },
  "language_info": {
   "codemirror_mode": {
    "name": "ipython",
    "version": 3
   },
   "file_extension": ".py",
   "mimetype": "text/x-python",
   "name": "python",
   "nbconvert_exporter": "python",
   "pygments_lexer": "ipython3",
   "version": "3.10.12"
  }
 },
 "nbformat": 4,
 "nbformat_minor": 2
}
